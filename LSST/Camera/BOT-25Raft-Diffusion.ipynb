{
 "cells": [
  {
   "cell_type": "code",
   "execution_count": 1,
   "metadata": {},
   "outputs": [],
   "source": [
    "%matplotlib inline\n",
    "\n",
    "import os\n",
    "import numpy as np\n",
    "import pandas as pd\n",
    "import glob\n",
    "import json\n",
    "import pickle\n",
    "from matplotlib import pyplot as plt\n",
    "import matplotlib.colors as colors\n",
    "from matplotlib import lines\n",
    "from astropy.io import fits\n",
    "from astropy import stats\n",
    "from astropy.table import Table\n",
    "\n",
    "from lsst.eotest.sensor.MaskedCCD import MaskedCCD\n",
    "from lsst.eotest.sensor.AmplifierGeometry import parse_geom_kwd\n",
    "import lsst.eotest.sensor as sensorTest\n",
    "import lsst.eotest.image_utils as imutils\n",
    "\n",
    "from myutils import *"
   ]
  },
  {
   "cell_type": "code",
   "execution_count": 2,
   "metadata": {},
   "outputs": [
    {
     "name": "stdout",
     "output_type": "stream",
     "text": [
      "Index(['MAX_OBSERVED_SIGNAL', 'MAX_FRAC_DEV', 'LINEARITY_TURNOFF',\n",
      "       'ROW_MEAN_VAR_SLOPE', 'PSF_SIGMA', 'GAIN_ERROR', 'GAIN',\n",
      "       'CTI_LOW_PARALLEL', 'CTI_LOW_SERIAL_ERROR', 'CTI_LOW_SERIAL',\n",
      "       'CTI_HIGH_SERIAL_ERROR', 'CTI_HIGH_PARALLEL', 'CTI_HIGH_SERIAL',\n",
      "       'CTI_LOW_PARALLEL_ERROR', 'CTI_HIGH_PARALLEL_ERROR', 'PTC_A00',\n",
      "       'PTC_NOISE', 'PTC_GAIN', 'PTC_A00_ERROR', 'PTC_TURNOFF',\n",
      "       'PTC_NOISE_ERROR', 'PTC_GAIN_ERROR', 'DARK_CURRENT_MEDIAN',\n",
      "       'DARK_CURRENT_95CL', 'BRIGHT_COLUMNS', 'BRIGHT_PIXELS', 'DARK_COLUMNS',\n",
      "       'DARK_PIXELS', 'TEARING_DETECTIONS', 'DIVISADERO_MAX_DEV',\n",
      "       'BF_SLOPEY_ERR', 'BF_YCORR_ERR', 'BF_SLOPEX_ERR', 'BF_MEAN',\n",
      "       'BF_SLOPEX', 'BF_SLOPEY', 'BF_XCORR_ERR', 'BF_XCORR', 'BF_YCORR',\n",
      "       'TOTAL_NOISE', 'SYSTEM_NOISE', 'READ_NOISE', 'BAY', 'SLOT', 'AMP',\n",
      "       'BAYTYPE'],\n",
      "      dtype='object')\n"
     ]
    }
   ],
   "source": [
    "dfDB_12640 = getDBinfoBOT(run='12640')\n",
    "print(dfDB_12640.columns)"
   ]
  },
  {
   "cell_type": "code",
   "execution_count": 14,
   "metadata": {},
   "outputs": [],
   "source": [
    "# add BAY_SLOT\n",
    "dfDB_12640['BAY_SLOT'] = dfDB_12640.BAY + \"_\" + dfDB_12640.SLOT"
   ]
  },
  {
   "cell_type": "code",
   "execution_count": 24,
   "metadata": {},
   "outputs": [
    {
     "data": {
      "text/plain": [
       "Text(0.5, 1.0, 'Run 12640')"
      ]
     },
     "execution_count": 24,
     "metadata": {},
     "output_type": "execute_result"
    },
    {
     "data": {
      "image/png": "[encoded data removed]",
      "text/plain": [
       "<Figure size 720x504 with 1 Axes>"
      ]
     },
     "metadata": {
      "needs_background": "light"
     },
     "output_type": "display_data"
    }
   ],
   "source": [
    "# plot PSF_SIGMA for all Science Rafts, removing BAY_SLOTs with BSS Off\n",
    "dfScience = dfDB_12640[(dfDB_12640.BAYTYPE=='S')]\n",
    "bssoff = ['R10_S00','R10_S01','R10_S02','R33_S20','R33_S21','R33_S22']\n",
    "dfScienceOn = dfScience[(~dfScience['BAY_SLOT'].isin(bssoff))]\n",
    "\n",
    "f,ax = plt.subplots(figsize=(10,7))\n",
    "h = ax.hist(dfScience.PSF_SIGMA,bins=40,range=(2.0,6.0),histtype='step',label='All Science')\n",
    "h = ax.hist(dfScienceOn.PSF_SIGMA,bins=40,range=(2.0,6.0),histtype='step',label='Science BSS On')\n",
    "\n",
    "ax.set_yscale('log')\n",
    "ax.set_xlabel('PSF Diffusion Sigma [microns]')\n",
    "ax.legend()\n",
    "ax.set_title('Run 12640')"
   ]
  },
  {
   "cell_type": "code",
   "execution_count": 26,
   "metadata": {},
   "outputs": [
    {
     "name": "stdout",
     "output_type": "stream",
     "text": [
      "    BAY SLOT  AMP  PSF_SIGMA      GAIN  PTC_GAIN\n",
      "0   R01  S00    1       5.08  1.455618  1.458905\n",
      "2   R01  S00    3       5.08  1.481395  1.486067\n",
      "7   R01  S00    8       5.08  1.443349  1.452407\n",
      "16  R01  S01    1       5.24  1.403146  1.388165\n",
      "17  R01  S01    2       5.24  1.406203  1.396024\n",
      "18  R01  S01    3       5.24  1.403463  1.395721\n",
      "19  R01  S01    4       5.16  1.399784  1.390233\n",
      "20  R01  S01    5       5.16  1.393763  1.385897\n",
      "21  R01  S01    6       5.16  1.398029  1.388974\n",
      "22  R01  S01    7       5.16  1.393683  1.381832\n",
      "23  R01  S01    8       5.08  1.388311  1.379951\n",
      "24  R01  S01    9       5.16  1.370627  1.370275\n",
      "25  R01  S01   10       5.24  1.403827  1.394785\n",
      "26  R01  S01   11       5.16  1.396447  1.387591\n",
      "27  R01  S01   12       5.24  1.395782  1.385231\n",
      "28  R01  S01   13       5.16  1.404313  1.402386\n",
      "29  R01  S01   14       5.24  1.407497  1.409824\n",
      "30  R01  S01   15       5.16  1.409303  1.413734\n",
      "31  R01  S01   16       5.24  1.406773  1.410040\n"
     ]
    }
   ],
   "source": [
    "# Print channels, values with Sigma>5\n",
    "dfScienceOn_above = dfScienceOn[(dfScienceOn.PSF_SIGMA>5.0)]\n",
    "print(dfScienceOn_above[['BAY','SLOT','AMP','PSF_SIGMA','GAIN','PTC_GAIN']])"
   ]
  },
  {
   "cell_type": "code",
   "execution_count": 18,
   "metadata": {},
   "outputs": [
    {
     "name": "stdout",
     "output_type": "stream",
     "text": [
      "BSS =  30.15\n"
     ]
    }
   ],
   "source": [
    "# Get BSS value for R01_S01\n",
    "\n",
    "# get Fe55 image file\n",
    "acqlinks = getBOTacqlinks(run='12636')\n",
    "imgfiles = getBOTimgfiles(acqlinks['fe55_flat'],'R01','S01')\n",
    "\n",
    "# get header info\n",
    "hdu = fits.open(imgfiles[0])\n",
    "#print(hdu.info())\n",
    "print(\"BSS = \",hdu[17].header['BSSVBS'])"
   ]
  },
  {
   "cell_type": "code",
   "execution_count": null,
   "metadata": {},
   "outputs": [],
   "source": []
  }
 ],
 "metadata": {
  "kernelspec": {
   "display_name": "LSST",
   "language": "python",
   "name": "lsst"
  },
  "language_info": {
   "codemirror_mode": {
    "name": "ipython",
    "version": 3
   },
   "file_extension": ".py",
   "mimetype": "text/x-python",
   "name": "python",
   "nbconvert_exporter": "python",
   "pygments_lexer": "ipython3",
   "version": "3.7.2"
  }
 },
 "nbformat": 4,
 "nbformat_minor": 4
}
